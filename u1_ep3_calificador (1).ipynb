{
 "cells": [
  {
   "cell_type": "code",
   "execution_count": 1,
   "id": "eeb1a2c1",
   "metadata": {
    "ExecuteTime": {
     "end_time": "2023-09-13T00:31:05.338241Z",
     "start_time": "2023-09-13T00:30:58.832384Z"
    }
   },
   "outputs": [],
   "source": [
    "# Librerías básicas\n",
    "import numpy as np\n",
    "import pandas as pd\n",
    "import os\n",
    "\n",
    "# Conexión a BD\n",
    "from sqlalchemy import create_engine\n",
    "from sqlalchemy.engine import URL"
   ]
  },
  {
   "cell_type": "code",
   "execution_count": 2,
   "id": "6dcd8b5d",
   "metadata": {
    "ExecuteTime": {
     "end_time": "2023-09-13T00:31:08.114861Z",
     "start_time": "2023-09-13T00:31:07.002343Z"
    }
   },
   "outputs": [],
   "source": [
    "url = URL.create(\n",
    "    drivername='mysql+pymysql',\n",
    "    username='python',      # Cambiar por root\n",
    "    password=\"P@ssword\",    # Ingresar contraseña del usuario root\n",
    "    host='localhost',\n",
    "    port=3306,\n",
    "    database='seguros_maya'\n",
    ")\n",
    "engine = create_engine(url)\n",
    "conn = engine.connect()"
   ]
  },
  {
   "cell_type": "code",
   "execution_count": 3,
   "id": "57b686b5",
   "metadata": {
    "ExecuteTime": {
     "end_time": "2023-09-13T00:31:10.892759Z",
     "start_time": "2023-09-13T00:31:10.877913Z"
    }
   },
   "outputs": [],
   "source": [
    "import sys\n",
    "# Pega la ruta en donde se encuentra tu archivo\n",
    "path = r'C:\\Users\\fermo\\Desktop\\FERMIN\\Educación y capacitaciones\\Cursos Impartidos\\Herramientas computacionales II\\Material del curso\\Ejercicios de práctica\\Tema 01 - Repaso de Mysql\\Respuestas'\n",
    "sys.path.append(path)"
   ]
  },
  {
   "cell_type": "code",
   "execution_count": 4,
   "id": "ca9c36cc",
   "metadata": {
    "ExecuteTime": {
     "end_time": "2023-09-13T00:31:13.272976Z",
     "start_time": "2023-09-13T00:31:13.248963Z"
    }
   },
   "outputs": [],
   "source": [
    "def importar_tarea(tarea, alias, nombre_funcion):\n",
    "    package = __import__(tarea + '_' + alias)\n",
    "    name = tarea + '_' + alias\n",
    "    funcion = getattr(package, nombre_funcion)\n",
    "    return funcion"
   ]
  },
  {
   "cell_type": "code",
   "execution_count": 5,
   "id": "5a014caf",
   "metadata": {
    "ExecuteTime": {
     "end_time": "2023-09-13T00:31:15.808185Z",
     "start_time": "2023-09-13T00:31:15.776051Z"
    },
    "run_control": {
     "marked": false
    }
   },
   "outputs": [
    {
     "data": {
      "text/plain": [
       "{'Pregunta1': \"\\n    select count(*) respuesta\\n    from seguros_maya.siniestros\\n    where culpa='S'\\n\\t    and year(str_to_date(fecha_siniestro, '%%d/%%m/%%Y %%H:%%i')) = 2014;\",\n",
       " 'Pregunta2': '',\n",
       " 'Pregunta3': '',\n",
       " 'Pregunta4': '',\n",
       " 'Pregunta5': '',\n",
       " 'Pregunta6': ''}"
      ]
     },
     "execution_count": 5,
     "metadata": {},
     "output_type": "execute_result"
    }
   ],
   "source": [
    "respuestas = importar_tarea('u1_ep3', 'cardos_fermin', 'respuestas')\n",
    "respuestas"
   ]
  },
  {
   "cell_type": "code",
   "execution_count": 6,
   "id": "891183da",
   "metadata": {
    "ExecuteTime": {
     "end_time": "2023-09-13T00:31:18.224905Z",
     "start_time": "2023-09-13T00:31:18.209396Z"
    }
   },
   "outputs": [],
   "source": [
    "query = respuestas['Pregunta1']"
   ]
  },
  {
   "cell_type": "code",
   "execution_count": 7,
   "id": "03f20a18",
   "metadata": {
    "ExecuteTime": {
     "end_time": "2023-09-13T00:31:20.584244Z",
     "start_time": "2023-09-13T00:31:20.487926Z"
    }
   },
   "outputs": [],
   "source": [
    "datos = pd.read_sql(query, conn)"
   ]
  },
  {
   "cell_type": "code",
   "execution_count": 8,
   "id": "139b6e2a",
   "metadata": {
    "ExecuteTime": {
     "end_time": "2023-09-13T00:31:22.545417Z",
     "start_time": "2023-09-13T00:31:22.529026Z"
    }
   },
   "outputs": [
    {
     "data": {
      "text/html": [
       "<div>\n",
       "<style scoped>\n",
       "    .dataframe tbody tr th:only-of-type {\n",
       "        vertical-align: middle;\n",
       "    }\n",
       "\n",
       "    .dataframe tbody tr th {\n",
       "        vertical-align: top;\n",
       "    }\n",
       "\n",
       "    .dataframe thead th {\n",
       "        text-align: right;\n",
       "    }\n",
       "</style>\n",
       "<table border=\"1\" class=\"dataframe\">\n",
       "  <thead>\n",
       "    <tr style=\"text-align: right;\">\n",
       "      <th></th>\n",
       "      <th>respuesta</th>\n",
       "    </tr>\n",
       "  </thead>\n",
       "  <tbody>\n",
       "    <tr>\n",
       "      <th>0</th>\n",
       "      <td>678</td>\n",
       "    </tr>\n",
       "  </tbody>\n",
       "</table>\n",
       "</div>"
      ],
      "text/plain": [
       "   respuesta\n",
       "0        678"
      ]
     },
     "execution_count": 8,
     "metadata": {},
     "output_type": "execute_result"
    }
   ],
   "source": [
    "datos"
   ]
  },
  {
   "cell_type": "code",
   "execution_count": null,
   "id": "d6375e1c",
   "metadata": {},
   "outputs": [],
   "source": []
  }
 ],
 "metadata": {
  "kernelspec": {
   "display_name": "Python 3 (ipykernel)",
   "language": "python",
   "name": "python3"
  },
  "language_info": {
   "codemirror_mode": {
    "name": "ipython",
    "version": 3
   },
   "file_extension": ".py",
   "mimetype": "text/x-python",
   "name": "python",
   "nbconvert_exporter": "python",
   "pygments_lexer": "ipython3",
   "version": "3.9.15"
  },
  "toc": {
   "base_numbering": 1,
   "nav_menu": {},
   "number_sections": true,
   "sideBar": true,
   "skip_h1_title": true,
   "title_cell": "Table of Contents",
   "title_sidebar": "Contents",
   "toc_cell": false,
   "toc_position": {
    "height": "calc(100% - 180px)",
    "left": "10px",
    "top": "150px",
    "width": "204.8px"
   },
   "toc_section_display": true,
   "toc_window_display": false
  },
  "varInspector": {
   "cols": {
    "lenName": 16,
    "lenType": 16,
    "lenVar": 40
   },
   "kernels_config": {
    "python": {
     "delete_cmd_postfix": "",
     "delete_cmd_prefix": "del ",
     "library": "var_list.py",
     "varRefreshCmd": "print(var_dic_list())"
    },
    "r": {
     "delete_cmd_postfix": ") ",
     "delete_cmd_prefix": "rm(",
     "library": "var_list.r",
     "varRefreshCmd": "cat(var_dic_list()) "
    }
   },
   "types_to_exclude": [
    "module",
    "function",
    "builtin_function_or_method",
    "instance",
    "_Feature"
   ],
   "window_display": false
  }
 },
 "nbformat": 4,
 "nbformat_minor": 5
}
